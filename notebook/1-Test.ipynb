{
 "cells": [
  {
   "cell_type": "code",
   "execution_count": 1,
   "id": "1af53bee-d45a-4162-ad7a-7018d1c653d3",
   "metadata": {},
   "outputs": [
    {
     "name": "stderr",
     "output_type": "stream",
     "text": [
      "2023-06-28 13:20:11.144803: I tensorflow/tsl/cuda/cudart_stub.cc:28] Could not find cuda drivers on your machine, GPU will not be used.\n",
      "2023-06-28 13:20:11.176727: I tensorflow/tsl/cuda/cudart_stub.cc:28] Could not find cuda drivers on your machine, GPU will not be used.\n",
      "2023-06-28 13:20:11.177305: I tensorflow/core/platform/cpu_feature_guard.cc:182] This TensorFlow binary is optimized to use available CPU instructions in performance-critical operations.\n",
      "To enable the following instructions: AVX2 FMA, in other operations, rebuild TensorFlow with the appropriate compiler flags.\n",
      "2023-06-28 13:20:11.860831: W tensorflow/compiler/tf2tensorrt/utils/py_utils.cc:38] TF-TRT Warning: Could not find TensorRT\n"
     ]
    }
   ],
   "source": [
    "import CS_Simulation"
   ]
  },
  {
   "cell_type": "code",
   "execution_count": 2,
   "id": "8751cf6f-9e56-42de-aa6a-718d40b43590",
   "metadata": {},
   "outputs": [],
   "source": [
    "\n",
    "\n",
    "\n",
    "env = CS_Simulation.Ground_Truth.clustered_multivariate_gaussian(n_dims=200, max_loc=200, num_clusters=5, wishart_scale=5)\n",
    "                                                           \n",
    "                                                           \n",
    "                                                           \n",
    "                                                           \n",
    "                                                           \n",
    "                                                           \n",
    "                                                        "
   ]
  },
  {
   "cell_type": "code",
   "execution_count": 4,
   "id": "8e8b93e0-b1a7-4c7c-a7cd-b98d33660aba",
   "metadata": {},
   "outputs": [
    {
     "name": "stdout",
     "output_type": "stream",
     "text": [
      "10\n",
      "10\n",
      "10\n",
      "10\n",
      "10\n",
      "10\n",
      "10\n",
      "10\n",
      "10\n",
      "10\n"
     ]
    },
    {
     "name": "stderr",
     "output_type": "stream",
     "text": [
      "2023-06-28 13:20:29.069363: W tensorflow/core/common_runtime/gpu/gpu_device.cc:1956] Cannot dlopen some GPU libraries. Please make sure the missing libraries mentioned above are installed properly if you would like to use GPU. Follow the guide at https://www.tensorflow.org/install/gpu for how to download and setup the required libraries for your platform.\n",
      "Skipping registering GPU devices...\n"
     ]
    }
   ],
   "source": [
    "group = []\n",
    "for _ in range(10):\n",
    "    scientist_agent = CS_Simulation.Scientists.scientist_autoencoder(200, 10, exp_control_strategy = \"close\",  experimentation_strategy = \"random\", measurement_strategy = \"None\", \n",
    "                         explanation_strategy = \"nn_autoencoder\", explanation_capacity = 10,num_param = 10)\n",
    "\n",
    "    scientist_agent.initialize_explanation()\n",
    "    group.append(scientist_agent)"
   ]
  },
  {
   "cell_type": "code",
   "execution_count": 5,
   "id": "36c6adba-ebb8-4fdc-a85d-288f02912b16",
   "metadata": {},
   "outputs": [
    {
     "data": {
      "text/plain": [
       "[<CS_Simulation.Scientists.scientist_autoencoder at 0x7fbf7b330690>,\n",
       " <CS_Simulation.Scientists.scientist_autoencoder at 0x7fbf759c4350>,\n",
       " <CS_Simulation.Scientists.scientist_autoencoder at 0x7fbf79e91c90>,\n",
       " <CS_Simulation.Scientists.scientist_autoencoder at 0x7fbf74c765d0>,\n",
       " <CS_Simulation.Scientists.scientist_autoencoder at 0x7fbf74aa6010>,\n",
       " <CS_Simulation.Scientists.scientist_autoencoder at 0x7fbf74ac6310>,\n",
       " <CS_Simulation.Scientists.scientist_autoencoder at 0x7fbf79d50b90>,\n",
       " <CS_Simulation.Scientists.scientist_autoencoder at 0x7fbf60431590>,\n",
       " <CS_Simulation.Scientists.scientist_autoencoder at 0x7fbf759a7010>,\n",
       " <CS_Simulation.Scientists.scientist_autoencoder at 0x7fbf79d1f190>]"
      ]
     },
     "execution_count": 5,
     "metadata": {},
     "output_type": "execute_result"
    }
   ],
   "source": [
    "group"
   ]
  },
  {
   "cell_type": "code",
   "execution_count": null,
   "id": "70b8c282-3a12-4899-97ab-5a7bbbea2f2b",
   "metadata": {},
   "outputs": [],
   "source": []
  }
 ],
 "metadata": {
  "kernelspec": {
   "display_name": "cs_sim",
   "language": "python",
   "name": "cs_sim"
  },
  "language_info": {
   "codemirror_mode": {
    "name": "ipython",
    "version": 3
   },
   "file_extension": ".py",
   "mimetype": "text/x-python",
   "name": "python",
   "nbconvert_exporter": "python",
   "pygments_lexer": "ipython3",
   "version": "3.11.4"
  }
 },
 "nbformat": 4,
 "nbformat_minor": 5
}
